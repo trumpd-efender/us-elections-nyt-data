{
 "cells": [
  {
   "cell_type": "code",
   "execution_count": 1,
   "metadata": {},
   "outputs": [],
   "source": [
    "import pandas as pd\n",
    "import numpy as np\n",
    "import matplotlib.pyplot as plt\n",
    "import matplotlib.dates as mdates\n",
    "from matplotlib import gridspec\n",
    "\n",
    "%matplotlib inline"
   ]
  },
  {
   "cell_type": "code",
   "execution_count": 2,
   "metadata": {},
   "outputs": [],
   "source": [
    "import warnings\n",
    "warnings.filterwarnings('ignore')"
   ]
  },
  {
   "cell_type": "code",
   "execution_count": 3,
   "metadata": {},
   "outputs": [],
   "source": [
    "df = pd.read_csv('../data/nyt/merged.csv', parse_dates=['timestamp'])"
   ]
  },
  {
   "cell_type": "code",
   "execution_count": 4,
   "metadata": {},
   "outputs": [],
   "source": [
    "df['timestamp'] = df['timestamp'].dt.tz_convert('US/Central')"
   ]
  },
  {
   "cell_type": "code",
   "execution_count": 5,
   "metadata": {},
   "outputs": [],
   "source": [
    "df = df[(df.timestamp >= '2020-11-03') & (df.timestamp < '2020-11-06')]\n",
    "df = df.set_index(['state', 'timestamp'], drop=True)"
   ]
  },
  {
   "cell_type": "code",
   "execution_count": 6,
   "metadata": {},
   "outputs": [],
   "source": [
    "df = df.sort_index(level=[0, 1])"
   ]
  },
  {
   "cell_type": "code",
   "execution_count": 7,
   "metadata": {},
   "outputs": [
    {
     "data": {
      "text/plain": [
       "Index(['alabama', 'alaska', 'arizona', 'arkansas', 'california', 'colorado',\n",
       "       'connecticut', 'delaware', 'district-of-columbia', 'florida', 'georgia',\n",
       "       'hawaii', 'idaho', 'illinois', 'indiana', 'iowa', 'kansas', 'kentucky',\n",
       "       'louisiana', 'maine', 'maryland', 'massachusetts', 'michigan',\n",
       "       'minnesota', 'mississippi', 'missouri', 'montana', 'nebraska', 'nevada',\n",
       "       'new-hampshire', 'new-jersey', 'new-mexico', 'new-york',\n",
       "       'north-carolina', 'north-dakota', 'ohio', 'oklahoma', 'oregon',\n",
       "       'pennsylvania', 'rhode-island', 'south-carolina', 'south-dakota',\n",
       "       'tennessee', 'texas', 'utah', 'vermont', 'virginia', 'washington',\n",
       "       'west-virginia', 'wisconsin', 'wyoming'],\n",
       "      dtype='object', name='state')"
      ]
     },
     "execution_count": 7,
     "metadata": {},
     "output_type": "execute_result"
    }
   ],
   "source": [
    "df.index.levels[0]"
   ]
  },
  {
   "cell_type": "code",
   "execution_count": 8,
   "metadata": {},
   "outputs": [],
   "source": [
    "df['trumpd_votes'] = (df['votes'] * df['trumpd']).astype(int)\n",
    "df['bidenj_votes'] = (df['votes'] * df['bidenj']).astype(int)"
   ]
  },
  {
   "cell_type": "code",
   "execution_count": 9,
   "metadata": {},
   "outputs": [],
   "source": [
    "sdf = df.loc['pennsylvania'].copy()"
   ]
  },
  {
   "cell_type": "code",
   "execution_count": 10,
   "metadata": {},
   "outputs": [
    {
     "data": {
      "text/plain": [
       "(458, 6)"
      ]
     },
     "execution_count": 10,
     "metadata": {},
     "output_type": "execute_result"
    }
   ],
   "source": [
    "sdf.shape"
   ]
  },
  {
   "cell_type": "code",
   "execution_count": 11,
   "metadata": {},
   "outputs": [
    {
     "data": {
      "text/html": [
       "<div>\n",
       "<style scoped>\n",
       "    .dataframe tbody tr th:only-of-type {\n",
       "        vertical-align: middle;\n",
       "    }\n",
       "\n",
       "    .dataframe tbody tr th {\n",
       "        vertical-align: top;\n",
       "    }\n",
       "\n",
       "    .dataframe thead th {\n",
       "        text-align: right;\n",
       "    }\n",
       "</style>\n",
       "<table border=\"1\" class=\"dataframe\">\n",
       "  <thead>\n",
       "    <tr style=\"text-align: right;\">\n",
       "      <th></th>\n",
       "      <th>votes</th>\n",
       "      <th>eevp</th>\n",
       "      <th>trumpd</th>\n",
       "      <th>bidenj</th>\n",
       "      <th>trumpd_votes</th>\n",
       "      <th>bidenj_votes</th>\n",
       "    </tr>\n",
       "    <tr>\n",
       "      <th>timestamp</th>\n",
       "      <th></th>\n",
       "      <th></th>\n",
       "      <th></th>\n",
       "      <th></th>\n",
       "      <th></th>\n",
       "      <th></th>\n",
       "    </tr>\n",
       "  </thead>\n",
       "  <tbody>\n",
       "    <tr>\n",
       "      <th>2020-11-03 18:19:27-06:00</th>\n",
       "      <td>77</td>\n",
       "      <td>0</td>\n",
       "      <td>0.429</td>\n",
       "      <td>0.571</td>\n",
       "      <td>33</td>\n",
       "      <td>43</td>\n",
       "    </tr>\n",
       "    <tr>\n",
       "      <th>2020-11-03 18:30:20-06:00</th>\n",
       "      <td>0</td>\n",
       "      <td>0</td>\n",
       "      <td>0.000</td>\n",
       "      <td>0.000</td>\n",
       "      <td>0</td>\n",
       "      <td>0</td>\n",
       "    </tr>\n",
       "    <tr>\n",
       "      <th>2020-11-03 18:42:45-06:00</th>\n",
       "      <td>11</td>\n",
       "      <td>0</td>\n",
       "      <td>0.364</td>\n",
       "      <td>0.636</td>\n",
       "      <td>4</td>\n",
       "      <td>6</td>\n",
       "    </tr>\n",
       "    <tr>\n",
       "      <th>2020-11-03 18:59:15-06:00</th>\n",
       "      <td>0</td>\n",
       "      <td>0</td>\n",
       "      <td>0.000</td>\n",
       "      <td>0.000</td>\n",
       "      <td>0</td>\n",
       "      <td>0</td>\n",
       "    </tr>\n",
       "    <tr>\n",
       "      <th>2020-11-03 19:03:44-06:00</th>\n",
       "      <td>64535</td>\n",
       "      <td>1</td>\n",
       "      <td>0.188</td>\n",
       "      <td>0.799</td>\n",
       "      <td>12132</td>\n",
       "      <td>51563</td>\n",
       "    </tr>\n",
       "    <tr>\n",
       "      <th>2020-11-03 19:14:19-06:00</th>\n",
       "      <td>86353</td>\n",
       "      <td>1</td>\n",
       "      <td>0.216</td>\n",
       "      <td>0.772</td>\n",
       "      <td>18652</td>\n",
       "      <td>66664</td>\n",
       "    </tr>\n",
       "    <tr>\n",
       "      <th>2020-11-03 19:14:26-06:00</th>\n",
       "      <td>120261</td>\n",
       "      <td>2</td>\n",
       "      <td>0.225</td>\n",
       "      <td>0.764</td>\n",
       "      <td>27058</td>\n",
       "      <td>91879</td>\n",
       "    </tr>\n",
       "    <tr>\n",
       "      <th>2020-11-03 19:15:31-06:00</th>\n",
       "      <td>195481</td>\n",
       "      <td>3</td>\n",
       "      <td>0.160</td>\n",
       "      <td>0.831</td>\n",
       "      <td>31276</td>\n",
       "      <td>162444</td>\n",
       "    </tr>\n",
       "    <tr>\n",
       "      <th>2020-11-03 19:15:55-06:00</th>\n",
       "      <td>211317</td>\n",
       "      <td>3</td>\n",
       "      <td>0.163</td>\n",
       "      <td>0.828</td>\n",
       "      <td>34444</td>\n",
       "      <td>174970</td>\n",
       "    </tr>\n",
       "    <tr>\n",
       "      <th>2020-11-03 19:17:19-06:00</th>\n",
       "      <td>219166</td>\n",
       "      <td>3</td>\n",
       "      <td>0.169</td>\n",
       "      <td>0.822</td>\n",
       "      <td>37039</td>\n",
       "      <td>180154</td>\n",
       "    </tr>\n",
       "  </tbody>\n",
       "</table>\n",
       "</div>"
      ],
      "text/plain": [
       "                            votes  eevp  trumpd  bidenj  trumpd_votes  \\\n",
       "timestamp                                                               \n",
       "2020-11-03 18:19:27-06:00      77     0   0.429   0.571            33   \n",
       "2020-11-03 18:30:20-06:00       0     0   0.000   0.000             0   \n",
       "2020-11-03 18:42:45-06:00      11     0   0.364   0.636             4   \n",
       "2020-11-03 18:59:15-06:00       0     0   0.000   0.000             0   \n",
       "2020-11-03 19:03:44-06:00   64535     1   0.188   0.799         12132   \n",
       "2020-11-03 19:14:19-06:00   86353     1   0.216   0.772         18652   \n",
       "2020-11-03 19:14:26-06:00  120261     2   0.225   0.764         27058   \n",
       "2020-11-03 19:15:31-06:00  195481     3   0.160   0.831         31276   \n",
       "2020-11-03 19:15:55-06:00  211317     3   0.163   0.828         34444   \n",
       "2020-11-03 19:17:19-06:00  219166     3   0.169   0.822         37039   \n",
       "\n",
       "                           bidenj_votes  \n",
       "timestamp                                \n",
       "2020-11-03 18:19:27-06:00            43  \n",
       "2020-11-03 18:30:20-06:00             0  \n",
       "2020-11-03 18:42:45-06:00             6  \n",
       "2020-11-03 18:59:15-06:00             0  \n",
       "2020-11-03 19:03:44-06:00         51563  \n",
       "2020-11-03 19:14:19-06:00         66664  \n",
       "2020-11-03 19:14:26-06:00         91879  \n",
       "2020-11-03 19:15:31-06:00        162444  \n",
       "2020-11-03 19:15:55-06:00        174970  \n",
       "2020-11-03 19:17:19-06:00        180154  "
      ]
     },
     "execution_count": 11,
     "metadata": {},
     "output_type": "execute_result"
    }
   ],
   "source": [
    "sdf.head(10)"
   ]
  },
  {
   "cell_type": "code",
   "execution_count": 12,
   "metadata": {},
   "outputs": [],
   "source": [
    "def get_dt(s):\n",
    "    dt = [0]\n",
    "    for i in range(1, s.shape[0]):\n",
    "        dt.append(s[i] - s[i-1])\n",
    "    return pd.Series(dt, index=s.index)"
   ]
  },
  {
   "cell_type": "code",
   "execution_count": 13,
   "metadata": {},
   "outputs": [
    {
     "data": {
      "text/plain": [
       "timestamp\n",
       "2020-11-03 18:19:27-06:00        0\n",
       "2020-11-03 18:30:20-06:00      -33\n",
       "2020-11-03 18:42:45-06:00        4\n",
       "2020-11-03 18:59:15-06:00       -4\n",
       "2020-11-03 19:03:44-06:00    12132\n",
       "2020-11-03 19:14:19-06:00     6520\n",
       "2020-11-03 19:14:26-06:00     8406\n",
       "2020-11-03 19:15:31-06:00     4218\n",
       "2020-11-03 19:15:55-06:00     3168\n",
       "2020-11-03 19:17:19-06:00     2595\n",
       "dtype: int64"
      ]
     },
     "execution_count": 13,
     "metadata": {},
     "output_type": "execute_result"
    }
   ],
   "source": [
    "get_dt(sdf['trumpd_votes']).head(10)"
   ]
  },
  {
   "cell_type": "code",
   "execution_count": 14,
   "metadata": {},
   "outputs": [],
   "source": [
    "sdf['trumpd_dt'] = get_dt(sdf['trumpd_votes'])\n",
    "sdf['biden_dt'] = get_dt(sdf['bidenj_votes'])\n",
    "sdf['batch_size'] = sdf['trumpd_dt'] + sdf['biden_dt']\n",
    "sdf['trumpd_dt_pct'] = sdf['trumpd_dt'] / sdf['batch_size']\n",
    "sdf['biden_dt_pct'] = sdf['biden_dt'] / sdf['batch_size']"
   ]
  },
  {
   "cell_type": "code",
   "execution_count": 15,
   "metadata": {},
   "outputs": [
    {
     "data": {
      "text/html": [
       "<div>\n",
       "<style scoped>\n",
       "    .dataframe tbody tr th:only-of-type {\n",
       "        vertical-align: middle;\n",
       "    }\n",
       "\n",
       "    .dataframe tbody tr th {\n",
       "        vertical-align: top;\n",
       "    }\n",
       "\n",
       "    .dataframe thead th {\n",
       "        text-align: right;\n",
       "    }\n",
       "</style>\n",
       "<table border=\"1\" class=\"dataframe\">\n",
       "  <thead>\n",
       "    <tr style=\"text-align: right;\">\n",
       "      <th></th>\n",
       "      <th>votes</th>\n",
       "      <th>eevp</th>\n",
       "      <th>trumpd</th>\n",
       "      <th>bidenj</th>\n",
       "      <th>trumpd_votes</th>\n",
       "      <th>bidenj_votes</th>\n",
       "      <th>trumpd_dt</th>\n",
       "      <th>biden_dt</th>\n",
       "      <th>batch_size</th>\n",
       "      <th>trumpd_dt_pct</th>\n",
       "      <th>biden_dt_pct</th>\n",
       "    </tr>\n",
       "    <tr>\n",
       "      <th>timestamp</th>\n",
       "      <th></th>\n",
       "      <th></th>\n",
       "      <th></th>\n",
       "      <th></th>\n",
       "      <th></th>\n",
       "      <th></th>\n",
       "      <th></th>\n",
       "      <th></th>\n",
       "      <th></th>\n",
       "      <th></th>\n",
       "      <th></th>\n",
       "    </tr>\n",
       "  </thead>\n",
       "  <tbody>\n",
       "    <tr>\n",
       "      <th>2020-11-03 18:19:27-06:00</th>\n",
       "      <td>77</td>\n",
       "      <td>0</td>\n",
       "      <td>0.429</td>\n",
       "      <td>0.571</td>\n",
       "      <td>33</td>\n",
       "      <td>43</td>\n",
       "      <td>0</td>\n",
       "      <td>0</td>\n",
       "      <td>0</td>\n",
       "      <td>NaN</td>\n",
       "      <td>NaN</td>\n",
       "    </tr>\n",
       "    <tr>\n",
       "      <th>2020-11-03 18:30:20-06:00</th>\n",
       "      <td>0</td>\n",
       "      <td>0</td>\n",
       "      <td>0.000</td>\n",
       "      <td>0.000</td>\n",
       "      <td>0</td>\n",
       "      <td>0</td>\n",
       "      <td>-33</td>\n",
       "      <td>-43</td>\n",
       "      <td>-76</td>\n",
       "      <td>0.434211</td>\n",
       "      <td>0.565789</td>\n",
       "    </tr>\n",
       "    <tr>\n",
       "      <th>2020-11-03 18:42:45-06:00</th>\n",
       "      <td>11</td>\n",
       "      <td>0</td>\n",
       "      <td>0.364</td>\n",
       "      <td>0.636</td>\n",
       "      <td>4</td>\n",
       "      <td>6</td>\n",
       "      <td>4</td>\n",
       "      <td>6</td>\n",
       "      <td>10</td>\n",
       "      <td>0.400000</td>\n",
       "      <td>0.600000</td>\n",
       "    </tr>\n",
       "    <tr>\n",
       "      <th>2020-11-03 18:59:15-06:00</th>\n",
       "      <td>0</td>\n",
       "      <td>0</td>\n",
       "      <td>0.000</td>\n",
       "      <td>0.000</td>\n",
       "      <td>0</td>\n",
       "      <td>0</td>\n",
       "      <td>-4</td>\n",
       "      <td>-6</td>\n",
       "      <td>-10</td>\n",
       "      <td>0.400000</td>\n",
       "      <td>0.600000</td>\n",
       "    </tr>\n",
       "    <tr>\n",
       "      <th>2020-11-03 19:03:44-06:00</th>\n",
       "      <td>64535</td>\n",
       "      <td>1</td>\n",
       "      <td>0.188</td>\n",
       "      <td>0.799</td>\n",
       "      <td>12132</td>\n",
       "      <td>51563</td>\n",
       "      <td>12132</td>\n",
       "      <td>51563</td>\n",
       "      <td>63695</td>\n",
       "      <td>0.190470</td>\n",
       "      <td>0.809530</td>\n",
       "    </tr>\n",
       "    <tr>\n",
       "      <th>2020-11-03 19:14:19-06:00</th>\n",
       "      <td>86353</td>\n",
       "      <td>1</td>\n",
       "      <td>0.216</td>\n",
       "      <td>0.772</td>\n",
       "      <td>18652</td>\n",
       "      <td>66664</td>\n",
       "      <td>6520</td>\n",
       "      <td>15101</td>\n",
       "      <td>21621</td>\n",
       "      <td>0.301559</td>\n",
       "      <td>0.698441</td>\n",
       "    </tr>\n",
       "    <tr>\n",
       "      <th>2020-11-03 19:14:26-06:00</th>\n",
       "      <td>120261</td>\n",
       "      <td>2</td>\n",
       "      <td>0.225</td>\n",
       "      <td>0.764</td>\n",
       "      <td>27058</td>\n",
       "      <td>91879</td>\n",
       "      <td>8406</td>\n",
       "      <td>25215</td>\n",
       "      <td>33621</td>\n",
       "      <td>0.250022</td>\n",
       "      <td>0.749978</td>\n",
       "    </tr>\n",
       "    <tr>\n",
       "      <th>2020-11-03 19:15:31-06:00</th>\n",
       "      <td>195481</td>\n",
       "      <td>3</td>\n",
       "      <td>0.160</td>\n",
       "      <td>0.831</td>\n",
       "      <td>31276</td>\n",
       "      <td>162444</td>\n",
       "      <td>4218</td>\n",
       "      <td>70565</td>\n",
       "      <td>74783</td>\n",
       "      <td>0.056403</td>\n",
       "      <td>0.943597</td>\n",
       "    </tr>\n",
       "    <tr>\n",
       "      <th>2020-11-03 19:15:55-06:00</th>\n",
       "      <td>211317</td>\n",
       "      <td>3</td>\n",
       "      <td>0.163</td>\n",
       "      <td>0.828</td>\n",
       "      <td>34444</td>\n",
       "      <td>174970</td>\n",
       "      <td>3168</td>\n",
       "      <td>12526</td>\n",
       "      <td>15694</td>\n",
       "      <td>0.201861</td>\n",
       "      <td>0.798139</td>\n",
       "    </tr>\n",
       "    <tr>\n",
       "      <th>2020-11-03 19:17:19-06:00</th>\n",
       "      <td>219166</td>\n",
       "      <td>3</td>\n",
       "      <td>0.169</td>\n",
       "      <td>0.822</td>\n",
       "      <td>37039</td>\n",
       "      <td>180154</td>\n",
       "      <td>2595</td>\n",
       "      <td>5184</td>\n",
       "      <td>7779</td>\n",
       "      <td>0.333590</td>\n",
       "      <td>0.666410</td>\n",
       "    </tr>\n",
       "    <tr>\n",
       "      <th>2020-11-03 19:24:10-06:00</th>\n",
       "      <td>219258</td>\n",
       "      <td>3</td>\n",
       "      <td>0.169</td>\n",
       "      <td>0.821</td>\n",
       "      <td>37054</td>\n",
       "      <td>180010</td>\n",
       "      <td>15</td>\n",
       "      <td>-144</td>\n",
       "      <td>-129</td>\n",
       "      <td>-0.116279</td>\n",
       "      <td>1.116279</td>\n",
       "    </tr>\n",
       "    <tr>\n",
       "      <th>2020-11-03 19:26:57-06:00</th>\n",
       "      <td>301969</td>\n",
       "      <td>4</td>\n",
       "      <td>0.151</td>\n",
       "      <td>0.841</td>\n",
       "      <td>45597</td>\n",
       "      <td>253955</td>\n",
       "      <td>8543</td>\n",
       "      <td>73945</td>\n",
       "      <td>82488</td>\n",
       "      <td>0.103567</td>\n",
       "      <td>0.896433</td>\n",
       "    </tr>\n",
       "    <tr>\n",
       "      <th>2020-11-03 19:29:03-06:00</th>\n",
       "      <td>306881</td>\n",
       "      <td>4</td>\n",
       "      <td>0.155</td>\n",
       "      <td>0.836</td>\n",
       "      <td>47566</td>\n",
       "      <td>256552</td>\n",
       "      <td>1969</td>\n",
       "      <td>2597</td>\n",
       "      <td>4566</td>\n",
       "      <td>0.431231</td>\n",
       "      <td>0.568769</td>\n",
       "    </tr>\n",
       "    <tr>\n",
       "      <th>2020-11-03 19:31:11-06:00</th>\n",
       "      <td>436908</td>\n",
       "      <td>6</td>\n",
       "      <td>0.407</td>\n",
       "      <td>0.587</td>\n",
       "      <td>177821</td>\n",
       "      <td>256464</td>\n",
       "      <td>130255</td>\n",
       "      <td>-88</td>\n",
       "      <td>130167</td>\n",
       "      <td>1.000676</td>\n",
       "      <td>-0.000676</td>\n",
       "    </tr>\n",
       "    <tr>\n",
       "      <th>2020-11-03 19:32:56-06:00</th>\n",
       "      <td>476287</td>\n",
       "      <td>7</td>\n",
       "      <td>0.390</td>\n",
       "      <td>0.604</td>\n",
       "      <td>185751</td>\n",
       "      <td>287677</td>\n",
       "      <td>7930</td>\n",
       "      <td>31213</td>\n",
       "      <td>39143</td>\n",
       "      <td>0.202591</td>\n",
       "      <td>0.797409</td>\n",
       "    </tr>\n",
       "    <tr>\n",
       "      <th>2020-11-03 19:35:04-06:00</th>\n",
       "      <td>503027</td>\n",
       "      <td>7</td>\n",
       "      <td>0.385</td>\n",
       "      <td>0.608</td>\n",
       "      <td>193665</td>\n",
       "      <td>305840</td>\n",
       "      <td>7914</td>\n",
       "      <td>18163</td>\n",
       "      <td>26077</td>\n",
       "      <td>0.303486</td>\n",
       "      <td>0.696514</td>\n",
       "    </tr>\n",
       "    <tr>\n",
       "      <th>2020-11-03 19:36:16-06:00</th>\n",
       "      <td>557915</td>\n",
       "      <td>8</td>\n",
       "      <td>0.361</td>\n",
       "      <td>0.632</td>\n",
       "      <td>201407</td>\n",
       "      <td>352602</td>\n",
       "      <td>7742</td>\n",
       "      <td>46762</td>\n",
       "      <td>54504</td>\n",
       "      <td>0.142045</td>\n",
       "      <td>0.857955</td>\n",
       "    </tr>\n",
       "    <tr>\n",
       "      <th>2020-11-03 19:36:55-06:00</th>\n",
       "      <td>559431</td>\n",
       "      <td>8</td>\n",
       "      <td>0.361</td>\n",
       "      <td>0.632</td>\n",
       "      <td>201954</td>\n",
       "      <td>353560</td>\n",
       "      <td>547</td>\n",
       "      <td>958</td>\n",
       "      <td>1505</td>\n",
       "      <td>0.363455</td>\n",
       "      <td>0.636545</td>\n",
       "    </tr>\n",
       "    <tr>\n",
       "      <th>2020-11-03 19:37:50-06:00</th>\n",
       "      <td>564800</td>\n",
       "      <td>8</td>\n",
       "      <td>0.363</td>\n",
       "      <td>0.631</td>\n",
       "      <td>205022</td>\n",
       "      <td>356388</td>\n",
       "      <td>3068</td>\n",
       "      <td>2828</td>\n",
       "      <td>5896</td>\n",
       "      <td>0.520353</td>\n",
       "      <td>0.479647</td>\n",
       "    </tr>\n",
       "    <tr>\n",
       "      <th>2020-11-03 19:38:49-06:00</th>\n",
       "      <td>678741</td>\n",
       "      <td>9</td>\n",
       "      <td>0.337</td>\n",
       "      <td>0.656</td>\n",
       "      <td>228735</td>\n",
       "      <td>445254</td>\n",
       "      <td>23713</td>\n",
       "      <td>88866</td>\n",
       "      <td>112579</td>\n",
       "      <td>0.210634</td>\n",
       "      <td>0.789366</td>\n",
       "    </tr>\n",
       "  </tbody>\n",
       "</table>\n",
       "</div>"
      ],
      "text/plain": [
       "                            votes  eevp  trumpd  bidenj  trumpd_votes  \\\n",
       "timestamp                                                               \n",
       "2020-11-03 18:19:27-06:00      77     0   0.429   0.571            33   \n",
       "2020-11-03 18:30:20-06:00       0     0   0.000   0.000             0   \n",
       "2020-11-03 18:42:45-06:00      11     0   0.364   0.636             4   \n",
       "2020-11-03 18:59:15-06:00       0     0   0.000   0.000             0   \n",
       "2020-11-03 19:03:44-06:00   64535     1   0.188   0.799         12132   \n",
       "2020-11-03 19:14:19-06:00   86353     1   0.216   0.772         18652   \n",
       "2020-11-03 19:14:26-06:00  120261     2   0.225   0.764         27058   \n",
       "2020-11-03 19:15:31-06:00  195481     3   0.160   0.831         31276   \n",
       "2020-11-03 19:15:55-06:00  211317     3   0.163   0.828         34444   \n",
       "2020-11-03 19:17:19-06:00  219166     3   0.169   0.822         37039   \n",
       "2020-11-03 19:24:10-06:00  219258     3   0.169   0.821         37054   \n",
       "2020-11-03 19:26:57-06:00  301969     4   0.151   0.841         45597   \n",
       "2020-11-03 19:29:03-06:00  306881     4   0.155   0.836         47566   \n",
       "2020-11-03 19:31:11-06:00  436908     6   0.407   0.587        177821   \n",
       "2020-11-03 19:32:56-06:00  476287     7   0.390   0.604        185751   \n",
       "2020-11-03 19:35:04-06:00  503027     7   0.385   0.608        193665   \n",
       "2020-11-03 19:36:16-06:00  557915     8   0.361   0.632        201407   \n",
       "2020-11-03 19:36:55-06:00  559431     8   0.361   0.632        201954   \n",
       "2020-11-03 19:37:50-06:00  564800     8   0.363   0.631        205022   \n",
       "2020-11-03 19:38:49-06:00  678741     9   0.337   0.656        228735   \n",
       "\n",
       "                           bidenj_votes  trumpd_dt  biden_dt  batch_size  \\\n",
       "timestamp                                                                  \n",
       "2020-11-03 18:19:27-06:00            43          0         0           0   \n",
       "2020-11-03 18:30:20-06:00             0        -33       -43         -76   \n",
       "2020-11-03 18:42:45-06:00             6          4         6          10   \n",
       "2020-11-03 18:59:15-06:00             0         -4        -6         -10   \n",
       "2020-11-03 19:03:44-06:00         51563      12132     51563       63695   \n",
       "2020-11-03 19:14:19-06:00         66664       6520     15101       21621   \n",
       "2020-11-03 19:14:26-06:00         91879       8406     25215       33621   \n",
       "2020-11-03 19:15:31-06:00        162444       4218     70565       74783   \n",
       "2020-11-03 19:15:55-06:00        174970       3168     12526       15694   \n",
       "2020-11-03 19:17:19-06:00        180154       2595      5184        7779   \n",
       "2020-11-03 19:24:10-06:00        180010         15      -144        -129   \n",
       "2020-11-03 19:26:57-06:00        253955       8543     73945       82488   \n",
       "2020-11-03 19:29:03-06:00        256552       1969      2597        4566   \n",
       "2020-11-03 19:31:11-06:00        256464     130255       -88      130167   \n",
       "2020-11-03 19:32:56-06:00        287677       7930     31213       39143   \n",
       "2020-11-03 19:35:04-06:00        305840       7914     18163       26077   \n",
       "2020-11-03 19:36:16-06:00        352602       7742     46762       54504   \n",
       "2020-11-03 19:36:55-06:00        353560        547       958        1505   \n",
       "2020-11-03 19:37:50-06:00        356388       3068      2828        5896   \n",
       "2020-11-03 19:38:49-06:00        445254      23713     88866      112579   \n",
       "\n",
       "                           trumpd_dt_pct  biden_dt_pct  \n",
       "timestamp                                               \n",
       "2020-11-03 18:19:27-06:00            NaN           NaN  \n",
       "2020-11-03 18:30:20-06:00       0.434211      0.565789  \n",
       "2020-11-03 18:42:45-06:00       0.400000      0.600000  \n",
       "2020-11-03 18:59:15-06:00       0.400000      0.600000  \n",
       "2020-11-03 19:03:44-06:00       0.190470      0.809530  \n",
       "2020-11-03 19:14:19-06:00       0.301559      0.698441  \n",
       "2020-11-03 19:14:26-06:00       0.250022      0.749978  \n",
       "2020-11-03 19:15:31-06:00       0.056403      0.943597  \n",
       "2020-11-03 19:15:55-06:00       0.201861      0.798139  \n",
       "2020-11-03 19:17:19-06:00       0.333590      0.666410  \n",
       "2020-11-03 19:24:10-06:00      -0.116279      1.116279  \n",
       "2020-11-03 19:26:57-06:00       0.103567      0.896433  \n",
       "2020-11-03 19:29:03-06:00       0.431231      0.568769  \n",
       "2020-11-03 19:31:11-06:00       1.000676     -0.000676  \n",
       "2020-11-03 19:32:56-06:00       0.202591      0.797409  \n",
       "2020-11-03 19:35:04-06:00       0.303486      0.696514  \n",
       "2020-11-03 19:36:16-06:00       0.142045      0.857955  \n",
       "2020-11-03 19:36:55-06:00       0.363455      0.636545  \n",
       "2020-11-03 19:37:50-06:00       0.520353      0.479647  \n",
       "2020-11-03 19:38:49-06:00       0.210634      0.789366  "
      ]
     },
     "execution_count": 15,
     "metadata": {},
     "output_type": "execute_result"
    }
   ],
   "source": [
    "sdf.head(20)"
   ]
  },
  {
   "cell_type": "code",
   "execution_count": 16,
   "metadata": {},
   "outputs": [],
   "source": [
    "s = sdf['trumpd_dt_pct']"
   ]
  },
  {
   "cell_type": "code",
   "execution_count": 17,
   "metadata": {},
   "outputs": [
    {
     "data": {
      "text/plain": [
       "count    456.000000\n",
       "mean      -0.211906\n",
       "std       15.532340\n",
       "min     -331.037037\n",
       "25%        0.401252\n",
       "50%        0.538949\n",
       "75%        0.653725\n",
       "max        3.279680\n",
       "Name: trumpd_dt_pct, dtype: float64"
      ]
     },
     "execution_count": 17,
     "metadata": {},
     "output_type": "execute_result"
    }
   ],
   "source": [
    "s.describe()"
   ]
  },
  {
   "cell_type": "code",
   "execution_count": 18,
   "metadata": {},
   "outputs": [
    {
     "data": {
      "text/html": [
       "<div>\n",
       "<style scoped>\n",
       "    .dataframe tbody tr th:only-of-type {\n",
       "        vertical-align: middle;\n",
       "    }\n",
       "\n",
       "    .dataframe tbody tr th {\n",
       "        vertical-align: top;\n",
       "    }\n",
       "\n",
       "    .dataframe thead th {\n",
       "        text-align: right;\n",
       "    }\n",
       "</style>\n",
       "<table border=\"1\" class=\"dataframe\">\n",
       "  <thead>\n",
       "    <tr style=\"text-align: right;\">\n",
       "      <th></th>\n",
       "      <th>votes</th>\n",
       "      <th>eevp</th>\n",
       "      <th>trumpd</th>\n",
       "      <th>bidenj</th>\n",
       "      <th>trumpd_votes</th>\n",
       "      <th>bidenj_votes</th>\n",
       "      <th>trumpd_dt</th>\n",
       "      <th>biden_dt</th>\n",
       "      <th>batch_size</th>\n",
       "      <th>trumpd_dt_pct</th>\n",
       "      <th>biden_dt_pct</th>\n",
       "    </tr>\n",
       "    <tr>\n",
       "      <th>timestamp</th>\n",
       "      <th></th>\n",
       "      <th></th>\n",
       "      <th></th>\n",
       "      <th></th>\n",
       "      <th></th>\n",
       "      <th></th>\n",
       "      <th></th>\n",
       "      <th></th>\n",
       "      <th></th>\n",
       "      <th></th>\n",
       "      <th></th>\n",
       "    </tr>\n",
       "  </thead>\n",
       "  <tbody>\n",
       "    <tr>\n",
       "      <th>2020-11-03 22:08:51-06:00</th>\n",
       "      <td>2984522</td>\n",
       "      <td>42</td>\n",
       "      <td>0.56</td>\n",
       "      <td>0.426</td>\n",
       "      <td>1671332</td>\n",
       "      <td>1271406</td>\n",
       "      <td>-17876</td>\n",
       "      <td>17930</td>\n",
       "      <td>54</td>\n",
       "      <td>-331.037037</td>\n",
       "      <td>332.037037</td>\n",
       "    </tr>\n",
       "  </tbody>\n",
       "</table>\n",
       "</div>"
      ],
      "text/plain": [
       "                             votes  eevp  trumpd  bidenj  trumpd_votes  \\\n",
       "timestamp                                                                \n",
       "2020-11-03 22:08:51-06:00  2984522    42    0.56   0.426       1671332   \n",
       "\n",
       "                           bidenj_votes  trumpd_dt  biden_dt  batch_size  \\\n",
       "timestamp                                                                  \n",
       "2020-11-03 22:08:51-06:00       1271406     -17876     17930          54   \n",
       "\n",
       "                           trumpd_dt_pct  biden_dt_pct  \n",
       "timestamp                                               \n",
       "2020-11-03 22:08:51-06:00    -331.037037    332.037037  "
      ]
     },
     "execution_count": 18,
     "metadata": {},
     "output_type": "execute_result"
    }
   ],
   "source": [
    "sdf[s < -300]"
   ]
  },
  {
   "cell_type": "markdown",
   "metadata": {},
   "source": [
    "Seems like an adjustment to steal trump votes here..."
   ]
  },
  {
   "cell_type": "code",
   "execution_count": 19,
   "metadata": {},
   "outputs": [
    {
     "data": {
      "text/plain": [
       "(458,)"
      ]
     },
     "execution_count": 19,
     "metadata": {},
     "output_type": "execute_result"
    }
   ],
   "source": [
    "s.shape"
   ]
  },
  {
   "cell_type": "code",
   "execution_count": 20,
   "metadata": {},
   "outputs": [],
   "source": [
    "s = s[(s > 0) & (s < 1)]"
   ]
  },
  {
   "cell_type": "code",
   "execution_count": 21,
   "metadata": {},
   "outputs": [
    {
     "data": {
      "text/plain": [
       "(415,)"
      ]
     },
     "execution_count": 21,
     "metadata": {},
     "output_type": "execute_result"
    }
   ],
   "source": [
    "s.shape"
   ]
  },
  {
   "cell_type": "markdown",
   "metadata": {},
   "source": [
    "Many weird entries... to be checked later"
   ]
  },
  {
   "cell_type": "code",
   "execution_count": 22,
   "metadata": {},
   "outputs": [
    {
     "data": {
      "text/plain": [
       "count    4.580000e+02\n",
       "mean     1.429492e+04\n",
       "std      3.506534e+05\n",
       "min     -5.254560e+06\n",
       "25%      7.550000e+02\n",
       "50%      6.223000e+03\n",
       "75%      1.838825e+04\n",
       "max      5.258096e+06\n",
       "Name: batch_size, dtype: float64"
      ]
     },
     "execution_count": 22,
     "metadata": {},
     "output_type": "execute_result"
    }
   ],
   "source": [
    "sdf['batch_size'].describe()"
   ]
  },
  {
   "cell_type": "code",
   "execution_count": 23,
   "metadata": {},
   "outputs": [],
   "source": [
    "b = sdf['batch_size']"
   ]
  },
  {
   "cell_type": "code",
   "execution_count": 24,
   "metadata": {},
   "outputs": [
    {
     "data": {
      "text/plain": [
       "(5258096, -5254560)"
      ]
     },
     "execution_count": 24,
     "metadata": {},
     "output_type": "execute_result"
    }
   ],
   "source": [
    "b.max(), b.min()"
   ]
  },
  {
   "cell_type": "code",
   "execution_count": 25,
   "metadata": {},
   "outputs": [],
   "source": [
    "b = b[(b < b.max()) & (b > b.min())]"
   ]
  },
  {
   "cell_type": "code",
   "execution_count": 26,
   "metadata": {},
   "outputs": [
    {
     "data": {
      "text/plain": [
       "count       456.000000\n",
       "mean      14349.861842\n",
       "std       45293.663683\n",
       "min     -561769.000000\n",
       "25%         773.000000\n",
       "50%        6223.000000\n",
       "75%       18374.750000\n",
       "max      483157.000000\n",
       "Name: batch_size, dtype: float64"
      ]
     },
     "execution_count": 26,
     "metadata": {},
     "output_type": "execute_result"
    }
   ],
   "source": [
    "b.describe()"
   ]
  },
  {
   "cell_type": "code",
   "execution_count": 27,
   "metadata": {},
   "outputs": [
    {
     "data": {
      "text/plain": [
       "<AxesSubplot:xlabel='timestamp'>"
      ]
     },
     "execution_count": 27,
     "metadata": {},
     "output_type": "execute_result"
    },
    {
     "data": {
      "image/png": "[encoded data removed]",
      "text/plain": [
       "<Figure size 432x288 with 1 Axes>"
      ]
     },
     "metadata": {
      "needs_background": "light"
     },
     "output_type": "display_data"
    }
   ],
   "source": [
    "b.plot()"
   ]
  },
  {
   "cell_type": "code",
   "execution_count": 28,
   "metadata": {},
   "outputs": [
    {
     "data": {
      "text/plain": [
       "count       454.000000\n",
       "mean      14586.231278\n",
       "std       29028.467618\n",
       "min     -238757.000000\n",
       "25%         788.000000\n",
       "50%        6223.000000\n",
       "75%       18287.000000\n",
       "max      238841.000000\n",
       "Name: batch_size, dtype: float64"
      ]
     },
     "execution_count": 28,
     "metadata": {},
     "output_type": "execute_result"
    }
   ],
   "source": [
    "b = b[(b < b.max()) & (b > b.min())]\n",
    "b.describe()"
   ]
  },
  {
   "cell_type": "code",
   "execution_count": 29,
   "metadata": {},
   "outputs": [
    {
     "data": {
      "text/plain": [
       "<AxesSubplot:xlabel='timestamp'>"
      ]
     },
     "execution_count": 29,
     "metadata": {},
     "output_type": "execute_result"
    },
    {
     "data": {
      "image/png": "[encoded data removed]",
      "text/plain": [
       "<Figure size 432x288 with 1 Axes>"
      ]
     },
     "metadata": {
      "needs_background": "light"
     },
     "output_type": "display_data"
    }
   ],
   "source": [
    "b.plot()"
   ]
  },
  {
   "cell_type": "code",
   "execution_count": 30,
   "metadata": {},
   "outputs": [
    {
     "data": {
      "text/plain": [
       "count       452.000000\n",
       "mean      14650.586283\n",
       "std       24342.641826\n",
       "min     -115515.000000\n",
       "25%         800.000000\n",
       "50%        6223.000000\n",
       "75%       18125.000000\n",
       "max      178879.000000\n",
       "Name: batch_size, dtype: float64"
      ]
     },
     "execution_count": 30,
     "metadata": {},
     "output_type": "execute_result"
    }
   ],
   "source": [
    "b = b[(b < b.max()) & (b > b.min())]\n",
    "b.describe()"
   ]
  },
  {
   "cell_type": "code",
   "execution_count": 31,
   "metadata": {},
   "outputs": [
    {
     "data": {
      "text/plain": [
       "<AxesSubplot:xlabel='timestamp'>"
      ]
     },
     "execution_count": 31,
     "metadata": {},
     "output_type": "execute_result"
    },
    {
     "data": {
      "image/png": "[encoded data removed]",
      "text/plain": [
       "<Figure size 432x288 with 1 Axes>"
      ]
     },
     "metadata": {
      "needs_background": "light"
     },
     "output_type": "display_data"
    }
   ],
   "source": [
    "b.plot()"
   ]
  },
  {
   "cell_type": "code",
   "execution_count": 32,
   "metadata": {},
   "outputs": [
    {
     "data": {
      "text/plain": [
       "count       450.000000\n",
       "mean      14574.891111\n",
       "std       22302.327876\n",
       "min       -6127.000000\n",
       "25%         809.500000\n",
       "50%        6223.000000\n",
       "75%       17973.500000\n",
       "max      143165.000000\n",
       "Name: batch_size, dtype: float64"
      ]
     },
     "execution_count": 32,
     "metadata": {},
     "output_type": "execute_result"
    }
   ],
   "source": [
    "b = b[(b < b.max()) & (b > b.min())]\n",
    "b.describe()"
   ]
  },
  {
   "cell_type": "code",
   "execution_count": 33,
   "metadata": {},
   "outputs": [
    {
     "data": {
      "text/plain": [
       "<AxesSubplot:xlabel='timestamp'>"
      ]
     },
     "execution_count": 33,
     "metadata": {},
     "output_type": "execute_result"
    },
    {
     "data": {
      "image/png": "[encoded data removed]",
      "text/plain": [
       "<Figure size 432x288 with 1 Axes>"
      ]
     },
     "metadata": {
      "needs_background": "light"
     },
     "output_type": "display_data"
    }
   ],
   "source": [
    "b.plot()"
   ]
  },
  {
   "cell_type": "markdown",
   "metadata": {},
   "source": [
    "Seems clean enough..."
   ]
  },
  {
   "cell_type": "code",
   "execution_count": 34,
   "metadata": {},
   "outputs": [],
   "source": [
    "s = s[s.index & b.index]\n",
    "b = b[s.index]"
   ]
  },
  {
   "cell_type": "code",
   "execution_count": 35,
   "metadata": {},
   "outputs": [
    {
     "data": {
      "text/plain": [
       "<matplotlib.legend.Legend at 0x7fe3ea150e90>"
      ]
     },
     "execution_count": 35,
     "metadata": {},
     "output_type": "execute_result"
    },
    {
     "data": {
      "image/png": "[encoded data removed]",
      "text/plain": [
       "<Figure size 1152x720 with 2 Axes>"
      ]
     },
     "metadata": {
      "needs_background": "light"
     },
     "output_type": "display_data"
    }
   ],
   "source": [
    "fig = plt.figure(figsize=(16, 10))\n",
    "\n",
    "gs = gridspec.GridSpec(5, 1)\n",
    "\n",
    "ax2 = fig.add_subplot(gs[3:, 0])\n",
    "ax = fig.add_subplot(gs[0:3, 0], sharex=ax2)\n",
    "plt.setp(ax.get_xticklabels(), visible=False)\n",
    "\n",
    "ax.set_title('Pennsylvania: Precentage of trump votes in each batch')\n",
    "\n",
    "ax.scatter(s.index, s, label=r\"$\\frac{ΔTrump}{ΔTotal}$\")\n",
    "\n",
    "textstr = \"\"\"Observe the percentage of trump votes in each batch is max-capped, \n",
    "and that this cap is decreasing over time and converges to 0.5\"\"\"\n",
    "\n",
    "props = dict(boxstyle='round', facecolor='wheat', alpha=0.5)\n",
    "ax.text(0.25, 0.9, textstr, transform=ax.transAxes, fontsize=12,\n",
    "        verticalalignment='top', bbox=props)\n",
    "\n",
    "ax.set_ylabel(\"Trump votes fraction\")\n",
    "ax.axhline(y=0.5, c=\"#444\", alpha=0.3)\n",
    "ax.legend(prop={'size': 14})\n",
    "\n",
    "ax2.set_xticklabels(s.index, rotation=90)\n",
    "ax2.xaxis.set_major_locator(mdates.HourLocator())\n",
    "ax2.xaxis.set_major_formatter(mdates.DateFormatter('%d/%m %H:%M:%S'))\n",
    "ax2.bar(b.index, b, label=\"Batch size\", width=0.005)\n",
    "ax2.legend()"
   ]
  }
 ],
 "metadata": {
  "kernelspec": {
   "display_name": "Python 3",
   "language": "python",
   "name": "python3"
  },
  "language_info": {
   "codemirror_mode": {
    "name": "ipython",
    "version": 3
   },
   "file_extension": ".py",
   "mimetype": "text/x-python",
   "name": "python",
   "nbconvert_exporter": "python",
   "pygments_lexer": "ipython3",
   "version": "3.7.5"
  }
 },
 "nbformat": 4,
 "nbformat_minor": 4
}
